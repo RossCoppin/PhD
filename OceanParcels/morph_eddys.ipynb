{
 "cells": [
  {
   "cell_type": "code",
   "execution_count": null,
   "metadata": {},
   "outputs": [],
   "source": [
    "%matplotlib inline\n",
    "from parcels import FieldSet, ParticleSet, Variable, JITParticle, AdvectionRK4, plotTrajectoriesFile\n",
    "from parcels import ErrorCode\n",
    "import numpy as np\n",
    "import math\n",
    "from datetime import timedelta\n",
    "from operator import attrgetter"
   ]
  },
  {
   "cell_type": "code",
   "execution_count": null,
   "metadata": {},
   "outputs": [],
   "source": [
    "fieldset = FieldSet.from_parcels(\"MovingEddies_data/moving_eddies\", allow_time_extrapolation=True)"
   ]
  },
  {
   "cell_type": "code",
   "execution_count": null,
   "metadata": {},
   "outputs": [],
   "source": [
    "fieldset.U.show()"
   ]
  },
  {
   "cell_type": "code",
   "execution_count": null,
   "metadata": {},
   "outputs": [],
   "source": [
    "pset = ParticleSet.from_list(fieldset=fieldset,   # the fields on which the particles are advected\n",
    "                             pclass=JITParticle,  # the type of particles (JITParticle or ScipyParticle)\n",
    "                             lon=[3.5e5,  3.5e5], # a vector of release longitudes \n",
    "                             lat=[1e5, 3.1e5],\n",
    "                             repeatdt=86400)    # a vector of release latitudes"
   ]
  },
  {
   "cell_type": "code",
   "execution_count": null,
   "metadata": {},
   "outputs": [],
   "source": [
    "pset.show(field=fieldset.U)"
   ]
  },
  {
   "cell_type": "code",
   "execution_count": null,
   "metadata": {},
   "outputs": [],
   "source": [
    "# Hydrodynamic drag kernel\n",
    "def WaterDrag(particle, fieldset, time):\n",
    "        (u, v) = fieldset.UV[time, particle.depth, particle.lat, particle.lon]\n",
    "        Ac = 386.28 # cross-sectional area of plant, must be entered manually and calculated before hand\n",
    "        mass = 48.65 # total mass of the kelp plant being simulated\n",
    "        expo = 0.95\n",
    "        waterdrag = ((0.5*1.025*(u*u)*0.47*Ac)*expo)/mass # syntax for calculating the loss in velocity as a result of drag\n",
    "        particle.lon += (u - waterdrag) # overall velocity minus the loss in the velocity as a result of drag\n",
    "        particle.lat += (v - waterdrag) # overall velocity minus the loss in the velocity as a result of drag\n",
    "        \n",
    "def DeleteParticle(particle, fieldset, time): # Function that deletes particle if it goes out of bounds to avoid OutOfBounds error\n",
    "    particle.delete()"
   ]
  },
  {
   "cell_type": "code",
   "execution_count": null,
   "metadata": {},
   "outputs": [],
   "source": [
    "#kernels = pset.Kernel(AdvectionRK4) # KelpFloat\n",
    "kernels = pset.Kernel(AdvectionRK4) + WaterDrag # KelpFloat"
   ]
  },
  {
   "cell_type": "code",
   "execution_count": null,
   "metadata": {},
   "outputs": [],
   "source": [
    "#output_file = pset.ParticleFile(name=\"EddyParticles.nc\", outputdt=timedelta(hours=1)) # the file name and the time step of the outputs\n",
    "output_file = pset.ParticleFile(name=\"EddyKelp_Mean.nc\", outputdt=timedelta(hours=1))\n",
    "\n",
    "pset.execute(kernels,                 # the kernel (which defines how particles move)\n",
    "             runtime=timedelta(days=5),    # the total length of the run\n",
    "             dt=timedelta(minutes=5),      # the timestep of the kernel\n",
    "             output_file=output_file,\n",
    "             recovery = {ErrorCode.ErrorOutOfBounds: DeleteParticle})"
   ]
  },
  {
   "cell_type": "code",
   "execution_count": null,
   "metadata": {},
   "outputs": [],
   "source": [
    "pset.show(field=fieldset.U)"
   ]
  },
  {
   "cell_type": "code",
   "execution_count": null,
   "metadata": {},
   "outputs": [],
   "source": [
    "output_file.export()\n",
    "plotTrajectoriesFile('EddyParticles.nc');\n",
    "#plotTrajectoriesFile('EddyKelp_Mean.nc');"
   ]
  },
  {
   "cell_type": "code",
   "execution_count": null,
   "metadata": {},
   "outputs": [],
   "source": [
    "#plotTrajectoriesFile('EddyParticles.nc', mode='movie2d_notebook')\n",
    "plotTrajectoriesFile('EddyKelp_Mean.nc', mode='movie2d_notebook')"
   ]
  },
  {
   "cell_type": "code",
   "execution_count": null,
   "metadata": {},
   "outputs": [],
   "source": [
    "plotTrajectoriesFile('EddyParticles.nc', mode='hist2d', bins=[30, 20]);\n",
    "#plotTrajectoriesFile('EddyKelp_Mean.nc', mode='hist2d', bins=[30, 20]);"
   ]
  }
 ],
 "metadata": {
  "kernelspec": {
   "display_name": "Python 3",
   "language": "python",
   "name": "python3"
  },
  "language_info": {
   "codemirror_mode": {
    "name": "ipython",
    "version": 3
   },
   "file_extension": ".py",
   "mimetype": "text/x-python",
   "name": "python",
   "nbconvert_exporter": "python",
   "pygments_lexer": "ipython3",
   "version": "3.6.7"
  }
 },
 "nbformat": 4,
 "nbformat_minor": 4
}
