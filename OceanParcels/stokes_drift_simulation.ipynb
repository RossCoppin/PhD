{
 "cells": [
  {
   "cell_type": "code",
   "execution_count": null,
   "metadata": {},
   "outputs": [],
   "source": [
    "%matplotlib inline\n",
    "from parcels import FieldSet, Field, VectorField, ParticleFile, ParticleSet, JITParticle, AdvectionRK4, AdvectionEE, plotTrajectoriesFile, Variable, BrownianMotion2D\n",
    "from parcels import ErrorCode\n",
    "from parcels import rng as random\n",
    "import numpy as np\n",
    "import math\n",
    "from datetime import timedelta, datetime\n",
    "from operator import attrgetter"
   ]
  },
  {
   "cell_type": "code",
   "execution_count": null,
   "metadata": {},
   "outputs": [],
   "source": [
    "# Load in ocean model  Copernicus\n",
    "filenames = {'U': \"Copernicus/stokes_drift/global-analysis-forecast-phy-001-024-hourly-merged-uv_1605607248932.nc\",\n",
    "             'V': \"Copernicus/stokes_drift/global-analysis-forecast-phy-001-024-hourly-merged-uv_1605607248932.nc\"}\n",
    "variables = {'U': 'vsdx',\n",
    "             'V': 'vsdy'}\n",
    "dimensions = {'lat': 'latitude',\n",
    "              'lon': 'longitude',\n",
    "              'time': 'time'}\n",
    "\n",
    "fieldset = FieldSet.from_netcdf(filenames, variables, dimensions, allow_time_extrapolation=True)"
   ]
  },
  {
   "cell_type": "code",
   "execution_count": null,
   "metadata": {},
   "outputs": [],
   "source": [
    "class SampleParticle(JITParticle):  # Define a new particle class that contains three extra variables\n",
    "    age = Variable('age', dtype=np.float32, initial=0.) # initialise age\n",
    "    distance = Variable('distance', initial=0., dtype=np.float32)  # the distance travelled\n",
    "    prev_lon = Variable('prev_lon', dtype=np.float32, to_write=False,\n",
    "                        initial=attrgetter('lon'))  # the previous longitude\n",
    "    prev_lat = Variable('prev_lat', dtype=np.float32, to_write=False,\n",
    "                        initial=attrgetter('lat'))  # the previous latitude.\n",
    "\n",
    "def SampleDistance(particle, fieldset, time): # Function measuring distance\n",
    "    # Calculate the distance in latitudinal direction (using 1.11e2 kilometer per degree latitude)\n",
    "    lat_dist = (particle.lat - particle.prev_lat) * 1.11e2\n",
    "    # Calculate the distance in longitudinal direction, using cosine(latitude) - spherical earth\n",
    "    lon_dist = (particle.lon - particle.prev_lon) * 1.11e2 * math.cos(particle.lat * math.pi / 180)\n",
    "    # Calculate the total Euclidean distance travelled by the particle\n",
    "    particle.distance += math.sqrt(math.pow(lon_dist, 2) + math.pow(lat_dist, 2))\n",
    "\n",
    "    particle.prev_lon = particle.lon  # Set the stored values for next iteration.\n",
    "    particle.prev_lat = particle.lat\n",
    "        \n",
    "def DeleteParticle(particle, fieldset, time): # Function that deletes particle if it goes out of bounds to avoid OutOfBounds error\n",
    "    particle.delete()"
   ]
  },
  {
   "cell_type": "code",
   "execution_count": null,
   "metadata": {},
   "outputs": [],
   "source": [
    "pset = ParticleSet.from_list(fieldset=fieldset,   # the fields on which the particles are advected\n",
    "                             pclass=SampleParticle,  # the type of particles (JITParticle or ScipyParticle)\n",
    "                             lon=[18.3176], \n",
    "                             lat=[-34.1395],\n",
    "                             depth = None,\n",
    "                             lonlatdepth_dtype= np.float32,\n",
    "                             repeatdt=None)  "
   ]
  },
  {
   "cell_type": "code",
   "execution_count": null,
   "metadata": {},
   "outputs": [],
   "source": [
    "# Minimum Hydrodynamic drag kernel \n",
    "def WaterDrag(particle, fieldset, time):\n",
    "        (uvdx, uvdy) = fieldset.UV[time, particle.depth, particle.lat, particle.lon]\n",
    "        Ac = 122.97 # cross-sectional area of plant, must be entered manually and calculated before hand\n",
    "        mass = 17.10 # total mass of the kelp plant being simulated\n",
    "        expo = 1\n",
    "        waterdrag = ((0.5*1.025*(uvdx*uvdx)*0.47*Ac)*expo)/mass # syntax for calculating the loss in velocity as a result of drag\n",
    "        particle.lon += (uvdx - waterdrag) # overall velocity minus the loss in the velocity as a result of drag\n",
    "        particle.lat += (uvdx - waterdrag) # overall velocity minus the loss in the velocity as a result of drag"
   ]
  },
  {
   "cell_type": "code",
   "execution_count": null,
   "metadata": {},
   "outputs": [],
   "source": [
    "# Mean Hydrodynamic drag kernel\n",
    "def WaterDrag(particle, fieldset, time):\n",
    "        (uvdx, uvdy) = fieldset.UV[time, particle.depth, particle.lat, particle.lon]\n",
    "        Ac = 228.61 # cross-sectional area of plant, must be entered manually and calculated before hand\n",
    "        mass = 34.5 # total mass of the kelp plant being simulated\n",
    "        expo = 1\n",
    "        waterdrag = ((0.5*1.025*(uvdx*uvdx)*0.47*Ac)*expo)/mass # syntax for calculating the loss in velocity as a result of drag\n",
    "        particle.lon += (uvdx - waterdrag) # overall velocity minus the loss in the velocity as a result of drag\n",
    "        particle.lat += (uvdy - waterdrag) # overall velocity minus the loss in the velocity as a result of drag"
   ]
  },
  {
   "cell_type": "code",
   "execution_count": null,
   "metadata": {},
   "outputs": [],
   "source": [
    "# Maximum Hydrodynamic drag kernel\n",
    "def WaterDrag(particle, fieldset, time):\n",
    "        (uvdx, uvdy) = fieldset.UV[time, particle.depth, particle.lat, particle.lon]\n",
    "        Ac = 386.28 # cross-sectional area of plant, must be entered manually and calculated before hand\n",
    "        mass = 48.65 # total mass of the kelp plant being simulated\n",
    "        expo = 1\n",
    "        waterdrag = ((0.5*1.025*(uvdx*uvdx)*0.47*Ac)*expo)/mass # syntax for calculating the loss in velocity as a result of drag\n",
    "        particle.lon += (uvdx - waterdrag) # overall velocity minus the loss in the velocity as a result of drag\n",
    "        particle.lat += (uvdy - waterdrag) # overall velocity minus the loss in the velocity as a result of drag"
   ]
  },
  {
   "cell_type": "code",
   "execution_count": null,
   "metadata": {},
   "outputs": [],
   "source": [
    "## define output file, select outfile according to simulation type\n",
    "\n",
    "#output_file = pset.ParticleFile(name=\"RK4_PFloat_stokesdrift.nc\", outputdt=timedelta(hours=1)) #check depth setting\n",
    "\n",
    "output_file = pset.ParticleFile(name=\"Min_KFloat_stokesdrift.nc\", outputdt=timedelta(hours=1)) #check depth setting\n",
    "#output_file = pset.ParticleFile(name=\"Mean_KFloat_stokesdrift.nc\", outputdt=timedelta(hours=1)) #check depth setting\n",
    "#output_file = pset.ParticleFile(name=\"Max_KFloat_stokesdrift.nc\", outputdt=timedelta(hours=1)) #check depth setting\n",
    "\n",
    "\n",
    "## cast kernels, select appropriate 'kernel set'\n",
    "\n",
    "#kernels = pset.Kernel(AdvectionRK4) + SampleDistance # for passive RK4 simulation\n",
    "kernels = pset.Kernel(AdvectionRK4) + SampleDistance + WaterDrag # KelpFloat\n",
    "\n",
    "## execute simulation\n",
    "pset.execute(kernels, \n",
    "             runtime=timedelta(days=10),\n",
    "             dt=timedelta(hours=1),\n",
    "             output_file=output_file,\n",
    "             recovery = {ErrorCode.ErrorOutOfBounds: DeleteParticle})"
   ]
  },
  {
   "cell_type": "code",
   "execution_count": null,
   "metadata": {},
   "outputs": [],
   "source": [
    "plotTrajectoriesFile('RK4_PFloat_stokesdrift.nc');\n",
    "plotTrajectoriesFile('Min_KFloat_stokesdrift.nc');\n",
    "plotTrajectoriesFile('Mean_KFloat_stokesdrift.nc');\n",
    "plotTrajectoriesFile('Max_KFloat_stokesdrift.nc');"
   ]
  },
  {
   "cell_type": "code",
   "execution_count": null,
   "metadata": {},
   "outputs": [],
   "source": [
    "# animation\n",
    "\n",
    "#plotTrajectoriesFile('RK4_PFloat_stokesdrift.nc', mode='movie2d_notebook')\n",
    "\n",
    "#plotTrajectoriesFile('Min_KFloat_stokesdrift.nc', mode='movie2d_notebook')\n",
    "#plotTrajectoriesFile('Mean_KFloat_stokesdrift.nc', mode='movie2d_notebook')\n",
    "#plotTrajectoriesFile('Max_KFloat_stokesdrift.nc', mode='movie2d_notebook')\n"
   ]
  }
 ],
 "metadata": {
  "kernelspec": {
   "display_name": "Python 3",
   "language": "python",
   "name": "python3"
  },
  "language_info": {
   "codemirror_mode": {
    "name": "ipython",
    "version": 3
   },
   "file_extension": ".py",
   "mimetype": "text/x-python",
   "name": "python",
   "nbconvert_exporter": "python",
   "pygments_lexer": "ipython3",
   "version": "3.6.7"
  }
 },
 "nbformat": 4,
 "nbformat_minor": 4
}
