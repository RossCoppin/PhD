{
 "cells": [
  {
   "cell_type": "code",
   "execution_count": null,
   "metadata": {},
   "outputs": [],
   "source": [
    "# Load in software packages\n",
    "%matplotlib inline\n",
    "from parcels import FieldSet, Field, VectorField, ParticleFile, ParticleSet, JITParticle, ScipyParticle, AdvectionRK4, AdvectionEE, plotTrajectoriesFile, Variable\n",
    "from parcels import ErrorCode\n",
    "from parcels import rng as random\n",
    "import numpy as np\n",
    "import math\n",
    "from datetime import timedelta, datetime\n",
    "from operator import attrgetter"
   ]
  },
  {
   "cell_type": "code",
   "execution_count": null,
   "metadata": {},
   "outputs": [],
   "source": [
    "# Load in ocean model \n",
    "filenames = {'U':\"chapter_4_models/copernicus_phy001_030/global-reanalysis-phy-001-030-daily_*.nc\",\n",
    "             'V':\"chapter_4_models/copernicus_phy001_030/global-reanalysis-phy-001-030-daily_*.nc\",\n",
    "             'bathy':'chapter_4_models/copernicus_phy001_030_Statics/GLO-MFC_001_030_mask_bathy.nc',\n",
    "             'mask':'chapter_4_models/copernicus_phy001_030_Statics/GLO-MFC_001_030_mask_bathy.nc',\n",
    "             'S':\"chapter_4_models/copernicus_phy001_030/global-reanalysis-phy-001-030-daily_*.nc\"}\n",
    "variables = {'U':'uo',\n",
    "             'V':'vo',\n",
    "             'S':'so',\n",
    "             'mask':'mask',\n",
    "            'bathy':'deptho'}\n",
    "dimensions = {'U': {'lon': 'longitude', 'lat': 'latitude', 'time': 'time'},\n",
    "              'V': {'lon': 'longitude', 'lat': 'latitude','time': 'time'},\n",
    "              'S': {'lon': 'longitude', 'lat': 'latitude','time': 'time'},\n",
    "              'mask': {'lon': 'longitude', 'lat': 'latitude', 'depth':'depth'},\n",
    "              'bathy': {'lon': 'longitude', 'lat': 'latitude'}}\n",
    "\n",
    "fieldsetcurrents = FieldSet.from_netcdf(filenames, variables, dimensions, allow_time_extrapolation=True)"
   ]
  },
  {
   "cell_type": "code",
   "execution_count": null,
   "metadata": {},
   "outputs": [],
   "source": [
    "# Load in wind data\n",
    "\n",
    "windfiles = {'U': \"CERSAT/CERSAT-GLO-BLENDED_WIND_L4-V6-OBS_FULL_TIME_SERIE_1603883929498.nc\",\n",
    "             'V': \"CERSAT/CERSAT-GLO-BLENDED_WIND_L4-V6-OBS_FULL_TIME_SERIE_1603883929498.nc\"}\n",
    "windvariables = {'U': 'eastward_wind',\n",
    "                 'V': 'northward_wind'}\n",
    "winddimensions = {'lat': 'lat',\n",
    "                  'lon': 'lon',\n",
    "                  'time': 'time'}\n",
    "\n",
    "fieldsetwind = FieldSet.from_netcdf(windfiles, windvariables, winddimensions, allow_time_extrapolation=True)\n",
    "#fieldsetwind.U.set_scaling_factor(0.01) # 1% of wind speed \n",
    "#fieldsetwind.V.set_scaling_factor(0.01) # 1% of wind speed "
   ]
  },
  {
   "cell_type": "code",
   "execution_count": null,
   "metadata": {},
   "outputs": [],
   "source": [
    "fieldset = FieldSet(U = fieldsetcurrents.U + fieldsetwind.U, V = fieldsetcurrents.V + fieldsetwind.V)"
   ]
  },
  {
   "cell_type": "code",
   "execution_count": null,
   "metadata": {},
   "outputs": [],
   "source": [
    "fieldsetstatic = FieldSet.from_netcdf(filenames, variables, dimensions, allow_time_extrapolation=True)\n",
    "fieldset.add_field(fieldsetstatic.mask)\n",
    "fieldset.add_field(fieldsetstatic.S)"
   ]
  },
  {
   "cell_type": "code",
   "execution_count": null,
   "metadata": {},
   "outputs": [],
   "source": [
    "class KelpParticle(ScipyParticle):  # Define a new particle class that contains three extra variables\n",
    "    age = Variable('age', dtype=np.float32, initial=0.) # initialise age\n",
    "    distance = Variable('distance', initial=0., dtype=np.float32)  # the distance travelled\n",
    "    prev_lon = Variable('prev_lon', dtype=np.float32, to_write=False,\n",
    "                        initial=attrgetter('lon'))  # the previous longitude\n",
    "    prev_lat = Variable('prev_lat', dtype=np.float32, to_write=False,\n",
    "                        initial=attrgetter('lat'))  # the previous latitude.\n",
    "    VelU = Variable('VelU', dtype=np.float32) # create variable for meridonal velocity\n",
    "    VelV = Variable('VelV', dtype=np.float32) # create variable for zonal velocity\n",
    "    WindU = Variable('WindU')\n",
    "    WindV = Variable('WindV')\n",
    "    StokesU = Variable('StokesU')\n",
    "    StokesV = Variable('StokesV')\n",
    "    KelpVelU = Variable('KelpVelU')\n",
    "    KelpVelV = Variable('KelpVelV')\n",
    "    Phase = Variable('Phase', dtype=np.float32, initial = 1) # 1-floating, 2-beached, 3-out of bounds\n",
    "    waterdragU = Variable('waterdragU')\n",
    "    waterdragV = Variable('waterdragV')\n",
    "    winddragU = Variable('winddragU')\n",
    "    winddragV = Variable('winddragV')\n",
    "    stokesdragU = Variable('stokesdragU')\n",
    "    stokesdragV = Variable('stokesdragV')\n",
    "    Salinity = Variable('Salinity', initial = fieldset.S, dtype=np.float32) # create variable for salinity\n",
    "    Mask = Variable('Mask', initial = fieldset.mask, to_write = False) # create variable for the \n",
    "\n",
    "\n",
    "def SampleDistance(particle, fieldset, time): # Function measuring distance\n",
    "    # Calculate the distance in latitudinal direction (using 1.11e2 kilometer per degree latitude)\n",
    "    lat_dist = (particle.lat - particle.prev_lat) * 1.11e2\n",
    "    # Calculate the distance in longitudinal direction, using cosine(latitude) - spherical earth\n",
    "    lon_dist = (particle.lon - particle.prev_lon) * 1.11e2 * math.cos(particle.lat * math.pi / 180)\n",
    "    # Calculate the total Euclidean distance travelled by the particle\n",
    "    particle.distance += math.sqrt(math.pow(lon_dist, 2) + math.pow(lat_dist, 2))\n",
    "\n",
    "    particle.prev_lon = particle.lon  # Set the stored values for next iteration.\n",
    "    particle.prev_lat = particle.lat\n",
    "\n",
    "# Hydrodynamic drag kernel\n",
    "def WaterWindDrag(particle, fieldset, time):\n",
    "        particle.VelU = fieldset.U[0][time, particle.depth, particle.lat, particle.lon]\n",
    "        particle.VelV = fieldset.V[0][time, particle.depth, particle.lat, particle.lon]\n",
    "        particle.Salinity = fieldset.S[time, particle.depth, particle.lat, particle.lon] # partical salinity units\n",
    "        so = ((particle.Salinity/1000)*0.001) # conversion of salinity to correct units\n",
    "        Ac =  310.54  # cross-sectional area of plant, must be entered manually and calculated before hand\n",
    "        mass = 48.65  # total mass of the kelp plant being simulated\n",
    "        expo = 0.85\n",
    "        particle.waterdragU = ((0.5*so*(particle.VelU*particle.VelU)*0.47*Ac)*expo)/mass # syntax for calculating the loss in velocity as a result of drag\n",
    "        particle.waterdragV = ((0.5*so*(particle.VelV*particle.VelV)*0.47*Ac)*expo)/mass\n",
    "        \n",
    "        \n",
    "        particle.WindU = fieldset.U[1][time, particle.depth, particle.lat, particle.lon]\n",
    "        particle.WindV = fieldset.V[1][time, particle.depth, particle.lat, particle.lon]\n",
    "        AcW =  310.54 # cross-sectional area of plant, must be entered manually and calculated before hand\n",
    "        massW = 48.65  # total mass of the kelp plant being simulated\n",
    "        expoW = 0.15\n",
    "        particle.winddragU = ((0.5*1.225*(particle.WindU*particle.WindU)*0.47*AcW)*expoW)/massW # syntax for calculating the loss in velocity as a result of drag\n",
    "        particle.winddragV = ((0.5*1.225*(particle.WindV*particle.WindV)*0.47*AcW)*expoW)/massW\n",
    "        particle.KelpVelU = (particle.VelU - (particle.waterdragU + particle.winddragU))\n",
    "        particle.KelpVelV = (particle.VelV - (particle.waterdragV + particle.winddragV))\n",
    "        particle.lon  += particle.KelpVelU * particle.dt   # overall velocity minus the loss in the velocity as a result of drag\n",
    "        particle.lat  += particle.KelpVelV * particle.dt   # overall velocity minus the loss in the velocity as a result of drag\n",
    "        \n",
    "def Age(particle, fieldset, time):\n",
    "        particle.age += (particle.dt/3600)\n",
    "        \n",
    "def Beaching(particle, fieldset, time):\n",
    "        particle.Mask = fieldset.mask[time, particle.depth,particle.lat, particle.lon]\n",
    "        if particle.Mask <= 0.3:\n",
    "            particle.Phase = 2\n",
    "            particle.delete()\n",
    "            \n",
    "def DeleteParticle(particle, fieldset, time): # Function that deletes particle if it goes out of bounds to avoid OutOfBounds error\n",
    "    particle.delete()\n",
    "    particle.Phase = 2       "
   ]
  },
  {
   "cell_type": "code",
   "execution_count": null,
   "metadata": {},
   "outputs": [],
   "source": [
    "# Year1 Summer: 2017, 12, 1\n",
    "# Year1 Autumn: 2018, 3, 1\n",
    "# Year1 Winter: 2018, 6, 1\n",
    "# Year1 Spring: 2018, 9, 1\n",
    "\n",
    "pset = ParticleSet.from_list(fieldset=fieldset,   # the fields on which the particles are advected\n",
    "                             pclass=KelpParticle,  # the type of particles (JITParticle/ScipyParticle/Custom)\n",
    "                             lon=[18.3176], \n",
    "                             lat=[-34.1501],\n",
    "                             repeatdt=None,        #43200(12hrs) # 21600 (6hrs)\n",
    "                             time=(datetime(2018, 6, 1)))  "
   ]
  },
  {
   "cell_type": "code",
   "execution_count": null,
   "metadata": {},
   "outputs": [],
   "source": [
    "## cast kernels, select appropriate 'kernel set'\n",
    "\n",
    "kernels = pset.Kernel(SampleDistance) + WaterWindDrag + Age + Beaching # KelpFloat"
   ]
  },
  {
   "cell_type": "code",
   "execution_count": null,
   "metadata": {},
   "outputs": [],
   "source": [
    "## execute simulation\n",
    "## define output file\n",
    "\n",
    "pset.execute(kernels, \n",
    "             runtime=timedelta(days=10),\n",
    "             dt=timedelta(hours=3),\n",
    "             output_file=pset.ParticleFile(name=\"test_landmask.nc\", outputdt=timedelta(hours=3)), \n",
    "             recovery = {ErrorCode.ErrorOutOfBounds: DeleteParticle})"
   ]
  },
  {
   "cell_type": "code",
   "execution_count": null,
   "metadata": {},
   "outputs": [],
   "source": [
    "# simple plot for viewing, use for checking simulation output\n",
    "\n",
    "plotTrajectoriesFile('test_landmask.nc')\n",
    "#plotTrajectoriesFile('test_B.nc')"
   ]
  },
  {
   "cell_type": "code",
   "execution_count": null,
   "metadata": {},
   "outputs": [],
   "source": [
    "plotTrajectoriesFile('test_landmask.nc', mode='movie2d_notebook')  "
   ]
  },
  {
   "cell_type": "code",
   "execution_count": null,
   "metadata": {},
   "outputs": [],
   "source": [
    "plotTrajectoriesFile('test_B.nc', mode='movie2d_notebook')  "
   ]
  },
  {
   "cell_type": "code",
   "execution_count": null,
   "metadata": {},
   "outputs": [],
   "source": [
    "pset.show(field='vector', show_time=datetime(2018, 1, 30, 0), domain={'N':-30, 'S':-35, 'E':21, 'W':15}, savefile = 'vector_day30', with_particles = False, vmax=0.8)"
   ]
  }
 ],
 "metadata": {
  "kernelspec": {
   "display_name": "Python 3",
   "language": "python",
   "name": "python3"
  },
  "language_info": {
   "codemirror_mode": {
    "name": "ipython",
    "version": 3
   },
   "file_extension": ".py",
   "mimetype": "text/x-python",
   "name": "python",
   "nbconvert_exporter": "python",
   "pygments_lexer": "ipython3",
   "version": "3.6.13"
  }
 },
 "nbformat": 4,
 "nbformat_minor": 4
}
