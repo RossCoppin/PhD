{
 "cells": [
  {
   "cell_type": "code",
   "execution_count": null,
   "metadata": {},
   "outputs": [],
   "source": [
    "# Script for kelp particle simulation"
   ]
  },
  {
   "cell_type": "code",
   "execution_count": null,
   "metadata": {},
   "outputs": [],
   "source": [
    "%matplotlib inline\n",
    "from parcels import FieldSet, Field, VectorField, ParticleFile, ParticleSet, JITParticle, AdvectionRK4, plotTrajectoriesFile, Variable\n",
    "from parcels import ErrorCode\n",
    "from parcels import rng as random\n",
    "import numpy as np\n",
    "import math\n",
    "from datetime import timedelta, datetime\n",
    "from operator import attrgetter"
   ]
  },
  {
   "cell_type": "code",
   "execution_count": null,
   "metadata": {},
   "outputs": [],
   "source": [
    "class SampleParticle(JITParticle):  # Define a new particle class that contains three extra variables\n",
    "    age = Variable('age', dtype=np.float32, initial=0.) # initialise age\n",
    "    distance = Variable('distance', initial=0., dtype=np.float32)  # the distance travelled\n",
    "    prev_lon = Variable('prev_lon', dtype=np.float32, to_write=False,\n",
    "                        initial=attrgetter('lon'))  # the previous longitude\n",
    "    prev_lat = Variable('prev_lat', dtype=np.float32, to_write=False,\n",
    "                        initial=attrgetter('lat'))  # the previous latitude."
   ]
  },
  {
   "cell_type": "code",
   "execution_count": null,
   "metadata": {},
   "outputs": [],
   "source": [
    "filenames = {'U': \"GlobCurrent_example_data/20*.nc\",\n",
    "             'V': \"GlobCurrent_example_data/20*.nc\"}\n",
    "variables = {'U': 'eastward_eulerian_current_velocity',\n",
    "             'V': 'northward_eulerian_current_velocity'}\n",
    "dimensions = {'lat': 'lat',\n",
    "              'lon': 'lon',\n",
    "              'time': 'time'}\n",
    "\n",
    "fieldset = FieldSet.from_netcdf(filenames, variables, dimensions)\n",
    "pset = ParticleSet.from_list(fieldset=fieldset, \n",
    "                            pclass=SampleParticle,\n",
    "                            lon=(17),     \n",
    "                            lat=(-33),\n",
    "                            repeatdt=3600)      "
   ]
  },
  {
   "cell_type": "code",
   "execution_count": null,
   "metadata": {},
   "outputs": [],
   "source": [
    "def DeleteParticle(particle, fieldset, time): # Function that deletes particle if it goes out of bounds to avoid OutOfBounds error\n",
    "    particle.delete()"
   ]
  },
  {
   "cell_type": "code",
   "execution_count": null,
   "metadata": {},
   "outputs": [],
   "source": [
    "def SampleDistance(particle, fieldset, time): # Function measuring distance\n",
    "    # Calculate the distance in latitudinal direction (using 1.11e2 kilometer per degree latitude)\n",
    "    lat_dist = (particle.lat - particle.prev_lat) * 1.11e2\n",
    "    # Calculate the distance in longitudinal direction, using cosine(latitude) - spherical earth\n",
    "    lon_dist = (particle.lon - particle.prev_lon) * 1.11e2 * math.cos(particle.lat * math.pi / 180)\n",
    "    # Calculate the total Euclidean distance travelled by the particle\n",
    "    particle.distance += math.sqrt(math.pow(lon_dist, 2) + math.pow(lat_dist, 2))\n",
    "\n",
    "    particle.prev_lon = particle.lon  # Set the stored values for next iteration.\n",
    "    particle.prev_lat = particle.lat"
   ]
  },
  {
   "cell_type": "code",
   "execution_count": null,
   "metadata": {},
   "outputs": [],
   "source": [
    "def SampleAge(particle, fieldset, time):\n",
    "    particle.age = time"
   ]
  },
  {
   "cell_type": "code",
   "execution_count": null,
   "metadata": {},
   "outputs": [],
   "source": [
    "# Drag Approach 1\n",
    "def KelpDrag(particle, fieldset, time):\n",
    "        (u, v) = fieldset.UV[time, particle.depth, particle.lat, particle.lon]\n",
    "        kelpvel = ((u*2)*0.5*0.8)/1\n",
    "        particle.lon += kelpvel * particle.dt\n",
    "        particle.lat += kelpvel * particle.dt\n",
    "k_drag = pset.Kernel(KelpDrag)  # casting the KelpDrag function to a kernel object"
   ]
  },
  {
   "cell_type": "code",
   "execution_count": null,
   "metadata": {},
   "outputs": [],
   "source": [
    "# Drag Approach 2\n",
    "def KelpDrag(particle, fieldset, time):\n",
    "        (u1, v1) = fieldset.UV[time, particle.depth, particle.lat, particle.lon]\n",
    "        lon1, lat1 = (particle.lon + u1*.5*particle.dt, particle.lat + v1*.5*particle.dt)\n",
    "\n",
    "        (u2, v2) = fieldset.UV[time + .5 * particle.dt, particle.depth, lat1, lon1]\n",
    "        lon2, lat2 = (particle.lon + u2*.5*particle.dt, particle.lat + v2*.5*particle.dt)\n",
    "\n",
    "        (u3, v3) = fieldset.UV[time + .5 * particle.dt, particle.depth, lat2, lon2]\n",
    "        lon3, lat3 = (particle.lon + u3*particle.dt, particle.lat + v3*particle.dt)\n",
    "\n",
    "        (u4, v4) = fieldset.UV[time + particle.dt, particle.depth, lat3, lon3]\n",
    "        kelpvel = ((((u1 + 2*u2 + 2*u3 + u4) / 6.)*0.03))/1\n",
    "        particle.lon += kelpvel * particle.dt\n",
    "        particle.lat += kelpvel * particle.dt \n",
    "        \n",
    "k_drag = pset.Kernel(KelpDrag)  # casting the KelpDrag function to a kernel object"
   ]
  },
  {
   "cell_type": "code",
   "execution_count": null,
   "metadata": {},
   "outputs": [],
   "source": [
    "# Execution of particles with custom kernel/s, ie. kelp particle simulation\n",
    "\n",
    "output_file = pset.ParticleFile(name=\"KelpFloat.nc\", outputdt=timedelta(days=100)) # the file name and the time step of the outputs\n",
    "\n",
    "\n",
    "pset.execute(AdvectionRK4 + k_drag, \n",
    "             runtime=timedelta(days=100),\n",
    "             dt=timedelta(minutes=5),\n",
    "             output_file=output_file,\n",
    "             recovery = {ErrorCode.ErrorOutOfBounds: DeleteParticle})"
   ]
  },
  {
   "cell_type": "code",
   "execution_count": null,
   "metadata": {},
   "outputs": [],
   "source": [
    "pset.show('KelpFloat.nc', domain={'N':-31, 'S':-35, 'E':20, 'W':15}, show_time=datetime(2002, 4, 11, 0))"
   ]
  },
  {
   "cell_type": "code",
   "execution_count": null,
   "metadata": {},
   "outputs": [],
   "source": [
    "pset.show(field = 'vector', savefile='KelpFloat_A', show_time=datetime(2002, 7, 20, 0))\n",
    "pset.show(field = 'vector', savefile='KelpFloat_B', domain={'N':-31, 'S':-35, 'E':20, 'W':15}, show_time=datetime(2002, 7, 20, 0))"
   ]
  },
  {
   "cell_type": "code",
   "execution_count": null,
   "metadata": {
    "scrolled": true
   },
   "outputs": [],
   "source": [
    "plotTrajectoriesFile('KelpFloat.nc', mode='hist2d', bins=[10, 10]); #Histogram of number of particle observations per bin"
   ]
  },
  {
   "cell_type": "code",
   "execution_count": null,
   "metadata": {},
   "outputs": [],
   "source": [
    "plotTrajectoriesFile('KelpFloat.nc', mode = 'movie2d_notebook')"
   ]
  }
 ],
 "metadata": {
  "kernelspec": {
   "display_name": "Python 3",
   "language": "python",
   "name": "python3"
  },
  "language_info": {
   "codemirror_mode": {
    "name": "ipython",
    "version": 3
   },
   "file_extension": ".py",
   "mimetype": "text/x-python",
   "name": "python",
   "nbconvert_exporter": "python",
   "pygments_lexer": "ipython3",
   "version": "3.6.7"
  }
 },
 "nbformat": 4,
 "nbformat_minor": 4
}
