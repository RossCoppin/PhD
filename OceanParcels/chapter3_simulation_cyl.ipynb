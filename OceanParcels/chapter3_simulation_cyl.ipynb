{
 "cells": [
  {
   "cell_type": "code",
   "execution_count": null,
   "metadata": {},
   "outputs": [],
   "source": [
    "# Load in software packages\n",
    "%matplotlib inline\n",
    "from parcels import FieldSet, Field, VectorField, ParticleFile, ParticleSet, JITParticle, ScipyParticle, AdvectionRK4, AdvectionEE, plotTrajectoriesFile, Variable, BrownianMotion2D\n",
    "from parcels import ErrorCode\n",
    "from parcels import rng as random\n",
    "import numpy as np\n",
    "import math\n",
    "from datetime import timedelta, datetime\n",
    "from operator import attrgetter"
   ]
  },
  {
   "cell_type": "code",
   "execution_count": null,
   "metadata": {},
   "outputs": [],
   "source": [
    "# Load in ocean model  Copernicus\n",
    "filenames = {'U': \"Copernicus/global-analysis-forecast-phy-001-024_1603882856077.nc\",\n",
    "             'V': \"Copernicus/global-analysis-forecast-phy-001-024_1603882856077.nc\"}\n",
    "variables = {'U': 'uo',\n",
    "             'V': 'vo'}\n",
    "dimensions = {'lat': 'latitude',\n",
    "              'lon': 'longitude',\n",
    "              'time': 'time'}\n",
    "\n",
    "fieldset = FieldSet.from_netcdf(filenames, variables, dimensions, allow_time_extrapolation=True)"
   ]
  },
  {
   "cell_type": "code",
   "execution_count": null,
   "metadata": {},
   "outputs": [],
   "source": [
    "class SampleParticle(JITParticle):  # Define a new particle class that contains three extra variables\n",
    "    age = Variable('age', dtype=np.float32, initial=0.) # initialise age\n",
    "    distance = Variable('distance', initial=0., dtype=np.float32)  # the distance travelled\n",
    "    prev_lon = Variable('prev_lon', dtype=np.float32, to_write=False,\n",
    "                        initial=attrgetter('lon'))  # the previous longitude\n",
    "    prev_lat = Variable('prev_lat', dtype=np.float32, to_write=False,\n",
    "                        initial=attrgetter('lat'))  # the previous latitude.\n",
    "    #uwind = Variable('uwind', initial=fieldset.U)\n",
    "    #vwind = Variable('vwind', initial=fieldset.V)\n",
    "    kelpvelU = Variable('kelpvelU',initial=fieldset.U)\n",
    "    kelpvelV = Variable('kelpvelV',initial=fieldset.V)\n",
    "\n",
    "def SampleDistance(particle, fieldset, time): # Function measuring distance\n",
    "    # Calculate the distance in latitudinal direction (using 1.11e2 kilometer per degree latitude)\n",
    "    lat_dist = (particle.lat - particle.prev_lat) * 1.11e2\n",
    "    # Calculate the distance in longitudinal direction, using cosine(latitude) - spherical earth\n",
    "    lon_dist = (particle.lon - particle.prev_lon) * 1.11e2 * math.cos(particle.lat * math.pi / 180)\n",
    "    # Calculate the total Euclidean distance travelled by the particle\n",
    "    particle.distance += math.sqrt(math.pow(lon_dist, 2) + math.pow(lat_dist, 2))\n",
    "\n",
    "    particle.prev_lon = particle.lon  # Set the stored values for next iteration.\n",
    "    particle.prev_lat = particle.lat\n",
    "    \n",
    "#def SampleAge(particle, fieldset, time):\n",
    "#    particle.age = time\n",
    "\n",
    "#def SampleWind(particle, fieldsetwind, time):\n",
    "#    particle.uwind = fieldset.U[time, particle.depth, particle.lat, particle.lon]\n",
    "#    particle.vwind = fieldset.V[time, particle.depth, particle.lat, particle.lon]\n",
    "\n",
    "def SampleCurr(particle, fieldset, time):\n",
    "    particle.currU = fieldset.U[time, particle.depth, particle.lat, particle.lon]\n",
    "    particle.currV = fieldset.V[time, particle.depth, particle.lat, particle.lon]\n",
    "\n",
    "def SampleKelpVel(particle, fieldset, time):\n",
    "    particle.kelpvelU = fieldset.U[time, particle.depth, particle.lat, particle.lon]\n",
    "    particle.kelpvelV = fieldset.V[time, particle.depth, particle.lat, particle.lon]\n",
    "    \n",
    "def DeleteParticle(particle, fieldset, time): # Function that deletes particle if it goes out of bounds to avoid OutOfBounds error\n",
    "    particle.delete()"
   ]
  },
  {
   "cell_type": "code",
   "execution_count": null,
   "metadata": {},
   "outputs": [],
   "source": [
    "#This is to add brownian motion to the particle/s\n",
    "\n",
    "fset_currents = FieldSet.from_netcdf(filenames, variables, dimensions)\n",
    "fset_currents.add_periodic_halo(zonal=True)\n",
    "size2D = (fset_currents.U.grid.ydim, fset_currents.U.grid.xdim)\n",
    "\n",
    "fieldset.add_field(Field('Kh_zonal', data=10 * np.ones(size2D),\n",
    "                         lon=fset_currents.U.grid.lon, lat=fset_currents.U.grid.lat,\n",
    "                         mesh='spherical', allow_time_extrapolation=True))\n",
    "fieldset.add_field(Field('Kh_meridional', data=10 * np.ones(size2D),\n",
    "                         lon=fset_currents.U.grid.lon, lat=fset_currents.U.grid.lat,\n",
    "                         mesh='spherical', allow_time_extrapolation=True))"
   ]
  },
  {
   "cell_type": "code",
   "execution_count": null,
   "metadata": {},
   "outputs": [],
   "source": [
    "pset = ParticleSet.from_line(fieldset=fieldset,   # the fields on which the particles are advected\n",
    "                             pclass=SampleParticle,  # the type of particles (JITParticle/ScipyParticle/Custom)\n",
    "                             start=[18.3176, -34.1395], \n",
    "                             finish=[18.3176, -34.1501],\n",
    "                             depth = None,\n",
    "                             time=(datetime(2018, 10, 1)),\n",
    "                             lonlatdepth_dtype= np.float64,\n",
    "                             size= 1000)    "
   ]
  },
  {
   "cell_type": "code",
   "execution_count": null,
   "metadata": {},
   "outputs": [],
   "source": [
    "# Hydrodynamic drag kernel\n",
    "def WaterDrag(particle, fieldset, time):\n",
    "        (u,v) = fieldset.UV[time, particle.depth, particle.lat, particle.lon]\n",
    "        Ac = 386.28  # cross-sectional area of plant, must be entered manually and calculated before hand\n",
    "        mass = 48.65 # total mass of the kelp plant being simulated\n",
    "        expo = 1\n",
    "        waterdragU = ((0.5*1027.3*(u*u)*0.82*Ac)*expo)/mass # syntax for calculating the loss in velocity as a result of drag\n",
    "        waterdragV = ((0.5*1027.3*(v*v)*0.82*Ac)*expo)/mass\n",
    "        kelpvelU = (u - waterdragU)\n",
    "        kelpvelV = (v - waterdragV)\n",
    "        particle.lon  += kelpvelU * particle.dt   # overall velocity minus the loss in the velocity as a result of drag\n",
    "        particle.lat  += kelpvelV * particle.dt   # overall velocity minus the loss in the velocity as a result of drag\n",
    "        particle.kelpvelU = kelpvelU\n",
    "        particle.kelpvelV = kelpvelV"
   ]
  },
  {
   "cell_type": "code",
   "execution_count": null,
   "metadata": {},
   "outputs": [],
   "source": [
    "## cast kernels, select appropriate 'kernel set'\n",
    "\n",
    "#kernels = pset.Kernel(AdvectionRK4) + SampleDistance + BrownianMotion2D # for passive RK4 simulation\n",
    "kernels = pset.Kernel(AdvectionRK4) + SampleDistance + SampleKelpVel + BrownianMotion2D + WaterDrag # KelpFloat"
   ]
  },
  {
   "cell_type": "code",
   "execution_count": null,
   "metadata": {},
   "outputs": [],
   "source": [
    "## execute simulation\n",
    "\n",
    "## define output file, select outfile according to simulation type\n",
    "\n",
    "#pset.ParticleFile(name=\"RK4_PFloat.nc\", outputdt=timedelta(hours=1)), \n",
    "#pset.ParticleFile(name=\"Max_ShapeFloat_H100_W00.nc\", outputdt=timedelta(hours=1)), \n",
    "\n",
    "pset.execute(kernels, \n",
    "             runtime=timedelta(days=30),\n",
    "             dt=timedelta(hours=1),\n",
    "             output_file=pset.ParticleFile(name=\"Max_ShapeFloat_H100_W00_Oct.nc\", outputdt=timedelta(hours=1)), \n",
    "             recovery = {ErrorCode.ErrorOutOfBounds: DeleteParticle})"
   ]
  },
  {
   "cell_type": "code",
   "execution_count": null,
   "metadata": {},
   "outputs": [],
   "source": [
    "# simple plot for viewing, use for checking simulation output\n",
    "\n",
    "#plotTrajectoriesFile('Max_KFloat_H100_W00.nc')\n",
    "plotTrajectoriesFile('Max_ShapeFloat_H100_W00.nc')\n"
   ]
  },
  {
   "cell_type": "code",
   "execution_count": null,
   "metadata": {},
   "outputs": [],
   "source": [
    "plotTrajectoriesFile('Max_KFloat_H100_W00.nc', mode='movie2d_notebook')  \n",
    "#plotTrajectoriesFile('Max_ShapeFloat_H100_W00.nc', mode='movie2d_notebook')  "
   ]
  },
  {
   "cell_type": "code",
   "execution_count": null,
   "metadata": {},
   "outputs": [],
   "source": [
    "pset.show(field=fieldset.V, show_time=datetime(2018, 1, 30, 0), domain={'N':-30, 'S':-35, 'E':21, 'W':15}, savefile = 'vector_day30', with_particles = False)"
   ]
  },
  {
   "cell_type": "code",
   "execution_count": null,
   "metadata": {},
   "outputs": [],
   "source": [
    "pset.show(animation = True, field='vector', domain={'N':-30, 'S':-35, 'E':21, 'W':15}, savefile = 'vector_day', with_particles = False)"
   ]
  }
 ],
 "metadata": {
  "kernelspec": {
   "display_name": "Python 3",
   "language": "python",
   "name": "python3"
  },
  "language_info": {
   "codemirror_mode": {
    "name": "ipython",
    "version": 3
   },
   "file_extension": ".py",
   "mimetype": "text/x-python",
   "name": "python",
   "nbconvert_exporter": "python",
   "pygments_lexer": "ipython3",
   "version": "3.6.13"
  }
 },
 "nbformat": 4,
 "nbformat_minor": 4
}
