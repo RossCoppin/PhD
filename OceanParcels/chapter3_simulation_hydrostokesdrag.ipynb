{
 "cells": [
  {
   "cell_type": "code",
   "execution_count": null,
   "metadata": {},
   "outputs": [],
   "source": [
    "# Load in software packages\n",
    "%matplotlib inline\n",
    "from parcels import FieldSet, Field, VectorField, ParticleFile, ParticleSet, JITParticle, ScipyParticle, AdvectionRK4, AdvectionEE, plotTrajectoriesFile, Variable\n",
    "from parcels import ErrorCode\n",
    "from parcels import rng as random\n",
    "import numpy as np\n",
    "import math\n",
    "from datetime import timedelta, datetime\n",
    "from operator import attrgetter"
   ]
  },
  {
   "cell_type": "code",
   "execution_count": null,
   "metadata": {},
   "outputs": [],
   "source": [
    "# Load in ocean model \n",
    "filenames = {'U':\"chapter_4_models/copernicus_phy001_030/global-reanalysis-phy-001-030-daily_*.nc\",\n",
    "             'V':\"chapter_4_models/copernicus_phy001_030/global-reanalysis-phy-001-030-daily_*.nc\",\n",
    "             'bathy':'chapter_4_models/copernicus_phy001_030_Statics/GLO-MFC_001_030_mask_bathy.nc',\n",
    "             'mask':'chapter_4_models/copernicus_phy001_030_Statics/GLO-MFC_001_030_mask_bathy.nc',\n",
    "             'S':\"chapter_4_models/copernicus_phy001_030/global-reanalysis-phy-001-030-daily_*.nc\"}\n",
    "variables = {'U':'uo',\n",
    "             'V':'vo',\n",
    "             'S':'so',\n",
    "             'mask':'mask',\n",
    "            'bathy':'deptho'}\n",
    "dimensions = {'U': {'lon': 'longitude', 'lat': 'latitude', 'time': 'time'},\n",
    "              'V': {'lon': 'longitude', 'lat': 'latitude','time': 'time'},\n",
    "              'S': {'lon': 'longitude', 'lat': 'latitude','time': 'time'},\n",
    "              'mask': {'lon': 'longitude', 'lat': 'latitude', 'depth':'depth'},\n",
    "              'bathy': {'lon': 'longitude', 'lat': 'latitude'}}\n",
    "\n",
    "fieldsetcurrents = FieldSet.from_netcdf(filenames, variables, dimensions, allow_time_extrapolation=True)"
   ]
  },
  {
   "cell_type": "code",
   "execution_count": null,
   "metadata": {},
   "outputs": [],
   "source": [
    "# Load in ocean stokes drift model \n",
    "filenamesstks = {'U':\"Copernicus/copernicus_wav_001_032/global-reanalysis-wav-001-032_1633089977537.nc\",\n",
    "                 'V':\"Copernicus/copernicus_wav_001_032/global-reanalysis-wav-001-032_1633089977537.nc\"}\n",
    "variablesstks = {'U':'VSDX',\n",
    "                 'V':'VSDY'}\n",
    "dimensionstsks = {'U': {'lon': 'longitude', 'lat': 'latitude', 'time': 'time'},\n",
    "                  'V': {'lon': 'longitude', 'lat': 'latitude','time': 'time'}}\n",
    "\n",
    "fieldsetsks = FieldSet.from_netcdf(filenamesstks, variablesstks, dimensionstsks, allow_time_extrapolation=True)"
   ]
  },
  {
   "cell_type": "code",
   "execution_count": null,
   "metadata": {},
   "outputs": [],
   "source": [
    "fieldset = FieldSet(U = fieldsetcurrents.U + fieldsetsks.U, V = fieldsetcurrents.V + fieldsetsks.V)"
   ]
  },
  {
   "cell_type": "code",
   "execution_count": null,
   "metadata": {},
   "outputs": [],
   "source": [
    "fieldsetstatic = FieldSet.from_netcdf(filenames, variables, dimensions, allow_time_extrapolation=True)\n",
    "#fieldset.add_field(fieldsetstatic.mask)\n",
    "fieldset.add_field(fieldsetstatic.S)"
   ]
  },
  {
   "cell_type": "code",
   "execution_count": null,
   "metadata": {},
   "outputs": [],
   "source": [
    "class KelpParticle(ScipyParticle):  # Define a new particle class that contains three extra variables\n",
    "    age = Variable('age', dtype=np.float32, initial=0.) # initialise age\n",
    "    distance = Variable('distance', initial=0., dtype=np.float32)  # the distance travelled\n",
    "    prev_lon = Variable('prev_lon', dtype=np.float32, to_write=False,\n",
    "                        initial=attrgetter('lon'))  # the previous longitude\n",
    "    prev_lat = Variable('prev_lat', dtype=np.float32, to_write=False,\n",
    "                        initial=attrgetter('lat'))  # the previous latitude.\n",
    "    VelU = Variable('VelU', dtype=np.float32) # create variable for meridonal velocity\n",
    "    VelV = Variable('VelV', dtype=np.float32) # create variable for zonal velocity\n",
    "    WindU = Variable('WindU')\n",
    "    WindV = Variable('WindV')\n",
    "    StokesU = Variable('StokesU')\n",
    "    StokesV = Variable('StokesV')\n",
    "    KelpVelU = Variable('KelpVelU')\n",
    "    KelpVelV = Variable('KelpVelV')\n",
    "    Phase = Variable('Phase', dtype=np.float32, initial = 1) # 1-floating, 2-beached, 3-out of bounds\n",
    "    waterdragU = Variable('waterdragU')\n",
    "    waterdragV = Variable('waterdragV')\n",
    "    winddragU = Variable('winddragU')\n",
    "    winddragV = Variable('winddragV')\n",
    "    stokesdragU = Variable('stokesdragU')\n",
    "    stokesdragV = Variable('stokesdragV')\n",
    "    Salinity = Variable('Salinity', initial = fieldset.S) # create variable for salinity\n",
    "    #Mask = Variable('Mask', initial = fieldset.mask, to_write = False) # create variable for the \n",
    "\n",
    "def SampleDistance(particle, fieldset, time): # Function measuring distance\n",
    "    # Calculate the distance in latitudinal direction (using 1.11e2 kilometer per degree latitude)\n",
    "    lat_dist = (particle.lat - particle.prev_lat) * 1.11e2\n",
    "    # Calculate the distance in longitudinal direction, using cosine(latitude) - spherical earth\n",
    "    lon_dist = (particle.lon - particle.prev_lon) * 1.11e2 * math.cos(particle.lat * math.pi / 180)\n",
    "    # Calculate the total Euclidean distance travelled by the particle\n",
    "    particle.distance += math.sqrt(math.pow(lon_dist, 2) + math.pow(lat_dist, 2))\n",
    "\n",
    "    particle.prev_lon = particle.lon  # Set the stored values for next iteration.\n",
    "    particle.prev_lat = particle.lat\n",
    "\n",
    "# Hydrodynamic drag kernel\n",
    "def WaterDrag(particle, fieldset, time):\n",
    "        particle.VelU = fieldset.U[0][time, particle.depth, particle.lat, particle.lon]\n",
    "        particle.VelV = fieldset.V[0][time, particle.depth, particle.lat, particle.lon]\n",
    "        particle.StokesU = fieldset.U[1][time, particle.depth, particle.lat, particle.lon]\n",
    "        particle.StokesV = fieldset.V[1][time, particle.depth, particle.lat, particle.lon]\n",
    "        particle.Salinity = fieldset.S[time, particle.depth, particle.lat, particle.lon] # partical salinity units\n",
    "        so = ((particle.Salinity/1000)*0.001) # conversion of salinity to correct units\n",
    "        Ac =  310.54  # cross-sectional area of plant, must be entered manually and calculated before hand\n",
    "        mass = 48.65  # total mass of the kelp plant being simulated\n",
    "        particle.waterdragU = ((0.5*so*(particle.VelU*particle.VelU)*0.47*Ac))/mass # syntax for calculating the loss in velocity as a result of drag\n",
    "        particle.waterdragV = ((0.5*so*(particle.VelV*particle.VelV)*0.47*Ac))/mass\n",
    "        particle.stokesdragV = ((0.5*so*(particle.StokesV*particle.StokesV)*0.47*Ac))/mass\n",
    "        particle.stokesdragU = ((0.5*so*(particle.StokesU*particle.StokesU)*0.47*Ac))/mass\n",
    "        particle.KelpVelU = (particle.VelU - (particle.waterdragU + particle.stokesdragU))\n",
    "        particle.KelpVelV = (particle.VelV - (particle.waterdragV + particle.stokesdragV))\n",
    "        particle.lon  += particle.KelpVelU*particle.dt  # overall velocity minus the loss in the velocity as a result of drag\n",
    "        particle.lat  += particle.KelpVelV*particle.dt  # overall velocity minus the loss in the velocity as a result of drag\n",
    "        particle.Phase = 1\n",
    "        \n",
    "def Age(particle, fieldset, time):\n",
    "        particle.age += (particle.dt/3600)\n",
    "        \n",
    "#def Beaching(particle, fieldset, time):\n",
    "#    if particle.Phase == 1:\n",
    "#        U = fieldset.U[time, particle.depth, particle.lat, particle.lon]\n",
    "#        V = fieldset.V[time, particle.depth, particle.lat, particle.lon]\n",
    "#        if U <= 0.000000000001 and V <=0.000000000001:\n",
    "#            particle.Phase = 2\n",
    "#            particle.delete()\n",
    "        \n",
    "            \n",
    "def DeleteParticle(particle, fieldset, time): # Function that deletes particle if it goes out of bounds to avoid OutOfBounds error\n",
    "    particle.delete()\n",
    "    particle.Phase = 2       "
   ]
  },
  {
   "cell_type": "code",
   "execution_count": null,
   "metadata": {},
   "outputs": [],
   "source": [
    "# Year1 Summer: 2017, 12, 1\n",
    "# Year1 Autumn: 2018, 3, 1\n",
    "# Year1 Winter: 2018, 6, 1\n",
    "# Year1 Spring: 2018, 9, 1\n",
    "\n",
    "pset = ParticleSet.from_list(fieldset=fieldset,   # the fields on which the particles are advected\n",
    "                             pclass=KelpParticle,  # the type of particles (JITParticle/ScipyParticle/Custom)\n",
    "                             lon=[18.3176], \n",
    "                             lat=[-34.1501],\n",
    "                             repeatdt=None,        #43200(12hrs)# 21600 (6hrs) #10800(3hrs)\n",
    "                             time=(datetime(2018, 9, 1)))  "
   ]
  },
  {
   "cell_type": "code",
   "execution_count": null,
   "metadata": {},
   "outputs": [],
   "source": [
    "## cast kernels, select appropriate 'kernel set'\n",
    "#kernels = pset.Kernel(AdvectionRK4) + SampleDistance + WaterDrag + Age #+ Beaching # KelpFloat\n",
    "kernels = pset.Kernel(SampleDistance) + WaterDrag + Age #+ Beaching # KelpFloat"
   ]
  },
  {
   "cell_type": "code",
   "execution_count": null,
   "metadata": {},
   "outputs": [],
   "source": [
    "## execute simulation\n",
    "\n",
    "## define output file, select outfile according to simulation type\n",
    "\n",
    "pset.execute(kernels, \n",
    "             runtime=timedelta(days=91),\n",
    "             dt=timedelta(hours=3),\n",
    "             output_file=pset.ParticleFile(name=\"kelp_hydrostksdrag_spring_single.nc\", outputdt=timedelta(hours=3)), \n",
    "             recovery = {ErrorCode.ErrorOutOfBounds: DeleteParticle})"
   ]
  },
  {
   "cell_type": "code",
   "execution_count": null,
   "metadata": {},
   "outputs": [],
   "source": [
    "# simple plot for viewing, use for checking simulation output\n",
    "\n",
    "plotTrajectoriesFile('kelp_hydrostksdrag_winter.nc')\n",
    "plotTrajectoriesFile('passive_winter_currstks.nc')"
   ]
  },
  {
   "cell_type": "code",
   "execution_count": null,
   "metadata": {},
   "outputs": [],
   "source": [
    "plotTrajectoriesFile('kelp_hydrostksdrag_spring.nc', mode='movie2d_notebook')  \n"
   ]
  },
  {
   "cell_type": "code",
   "execution_count": null,
   "metadata": {},
   "outputs": [],
   "source": [
    "plotTrajectoriesFile('kelp_hydrostksdrag_spring.nc', mode='movie2d_notebook')  \n"
   ]
  },
  {
   "cell_type": "code",
   "execution_count": null,
   "metadata": {},
   "outputs": [],
   "source": []
  }
 ],
 "metadata": {
  "kernelspec": {
   "display_name": "Python 3",
   "language": "python",
   "name": "python3"
  },
  "language_info": {
   "codemirror_mode": {
    "name": "ipython",
    "version": 3
   },
   "file_extension": ".py",
   "mimetype": "text/x-python",
   "name": "python",
   "nbconvert_exporter": "python",
   "pygments_lexer": "ipython3",
   "version": "3.6.13"
  }
 },
 "nbformat": 4,
 "nbformat_minor": 4
}
