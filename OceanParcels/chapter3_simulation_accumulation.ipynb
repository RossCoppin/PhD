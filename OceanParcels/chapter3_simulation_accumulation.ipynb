{
 "cells": [
  {
   "cell_type": "markdown",
   "metadata": {},
   "source": [
    "*This document contains the code need to run the simulations for chapter 3 of the PhD*\n",
    "\n",
    "The script for all the scenarios are available and can be swithed 'on' and 'off' by deteleing an inserting hashtags (#)\n",
    "for the relevant line of script.\n",
    "\n",
    "The first step is to load the various software needed to run the simulations. These software are a combination of \n",
    "standard Python3 and OceanParcels libraries. These software packages also include built in OceanParcels kernels, such as AdvectionRK4 and AdvectionEE schemes. "
   ]
  },
  {
   "cell_type": "code",
   "execution_count": null,
   "metadata": {},
   "outputs": [],
   "source": [
    "# Load in software packages\n",
    "%matplotlib inline\n",
    "from parcels import FieldSet, Field, VectorField, ParticleFile, ParticleSet, JITParticle, ScipyParticle, AdvectionRK4, AdvectionEE, plotTrajectoriesFile, Variable, BrownianMotion2D\n",
    "from parcels import ErrorCode\n",
    "from parcels import rng as random\n",
    "import numpy as np\n",
    "import math\n",
    "from datetime import timedelta, datetime\n",
    "from operator import attrgetter"
   ]
  },
  {
   "cell_type": "markdown",
   "metadata": {},
   "source": [
    "The next step is to design a custom class of particle that will contain the extra variables needed for the simulation such as distance travelled and age. The custom particle class can only be applied to a JITparticle. In the 'class' function of OceanParcels the various variables are defined. \n",
    "\n",
    "In addition to creating a custom class of particle, the kernels regarding the particles 'behaviour' must be defined (sinking, measuring distance and age, drag ect). This is performed through the 'def' function and the assocaited script. This allows for custom behaviour to be programmed. Note that the math script incorported into the kernels can only have basic numerical operators, which is a current limitation of the software. Also note, that in order to avoid an \"error out of bounds\" message, a kernel is created that deletes the particle if it leaves the study domain. This is standard partice when using OceanParcels and must be incorporated to successfully execute the simulation. The kernel for the different approaches to simulating drag are defined later."
   ]
  },
  {
   "cell_type": "code",
   "execution_count": null,
   "metadata": {},
   "outputs": [],
   "source": [
    "# Load in ocean model  Copernicus\n",
    "filenames = {'U': \"Copernicus/global-analysis-forecast-phy-001-024_1603882856077.nc\",\n",
    "             'V': \"Copernicus/global-analysis-forecast-phy-001-024_1603882856077.nc\"}\n",
    "variables = {'U': 'uo',\n",
    "             'V': 'vo'}\n",
    "dimensions = {'lat': 'latitude',\n",
    "              'lon': 'longitude',\n",
    "              'time': 'time'}\n",
    "\n",
    "fieldset = FieldSet.from_netcdf(filenames, variables, dimensions, allow_time_extrapolation=True)"
   ]
  },
  {
   "cell_type": "code",
   "execution_count": null,
   "metadata": {},
   "outputs": [],
   "source": [
    "# Load in wind data\n",
    "\n",
    "windfiles = {'U': \"CERSAT/CERSAT-GLO-BLENDED_WIND_L4-V6-OBS_FULL_TIME_SERIE_1603883929498.nc\",\n",
    "             'V': \"CERSAT/CERSAT-GLO-BLENDED_WIND_L4-V6-OBS_FULL_TIME_SERIE_1603883929498.nc\"}\n",
    "windvariables = {'U': 'eastward_wind',\n",
    "                 'V': 'northward_wind'}\n",
    "winddimensions = {'lat': 'lat',\n",
    "                  'lon': 'lon',\n",
    "                  'time': 'time'}\n",
    "\n",
    "fieldsetwind = FieldSet.from_netcdf(windfiles, windvariables, winddimensions, allow_time_extrapolation=True)"
   ]
  },
  {
   "cell_type": "code",
   "execution_count": null,
   "metadata": {},
   "outputs": [],
   "source": [
    "class SampleParticle(JITParticle):  # Define a new particle class that contains three extra variables\n",
    "    age = Variable('age', dtype=np.float32, initial=0.) # initialise age\n",
    "    distance = Variable('distance', initial=0., dtype=np.float32)  # the distance travelled\n",
    "    prev_lon = Variable('prev_lon', dtype=np.float32, to_write=False,\n",
    "                        initial=attrgetter('lon'))  # the previous longitude\n",
    "    prev_lat = Variable('prev_lat', dtype=np.float32, to_write=False,\n",
    "                        initial=attrgetter('lat'))  # the previous latitude.\n",
    "    #uwind = Variable('uwind', initial=fieldset.U)\n",
    "    #vwind = Variable('vwind', initial=fieldset.V)\n",
    "    kelpvelU = Variable('kelpvelU',initial=fieldset.U)\n",
    "    kelpvelV = Variable('kelpvelV',initial=fieldset.V)\n",
    "\n",
    "def SampleDistance(particle, fieldset, time): # Function measuring distance\n",
    "    # Calculate the distance in latitudinal direction (using 1.11e2 kilometer per degree latitude)\n",
    "    lat_dist = (particle.lat - particle.prev_lat) * 1.11e2\n",
    "    # Calculate the distance in longitudinal direction, using cosine(latitude) - spherical earth\n",
    "    lon_dist = (particle.lon - particle.prev_lon) * 1.11e2 * math.cos(particle.lat * math.pi / 180)\n",
    "    # Calculate the total Euclidean distance travelled by the particle\n",
    "    particle.distance += math.sqrt(math.pow(lon_dist, 2) + math.pow(lat_dist, 2))\n",
    "\n",
    "    particle.prev_lon = particle.lon  # Set the stored values for next iteration.\n",
    "    particle.prev_lat = particle.lat\n",
    "    \n",
    "def SampleAge(particle, fieldset, time):\n",
    "    particle.age = particle.dt\n",
    "\n",
    "#def SampleWind(particle, fieldsetwind, time):\n",
    "#    particle.uwind = fieldset.U[time, particle.depth, particle.lat, particle.lon]\n",
    "#    particle.vwind = fieldset.V[time, particle.depth, particle.lat, particle.lon]\n",
    "\n",
    "def SampleCurr(particle, fieldset, time):\n",
    "    particle.currU = fieldset.U[time, particle.depth, particle.lat, particle.lon]\n",
    "    particle.currV = fieldset.V[time, particle.depth, particle.lat, particle.lon]\n",
    "\n",
    "def SampleKelpVel(particle, fieldset, time):\n",
    "    particle.kelpvelU = fieldset.U[time, particle.depth, particle.lat, particle.lon]\n",
    "    particle.kelpvelV = fieldset.V[time, particle.depth, particle.lat, particle.lon]\n",
    "    \n",
    "def DeleteParticle(particle, fieldset, time): # Function that deletes particle if it goes out of bounds to avoid OutOfBounds error\n",
    "    particle.delete()"
   ]
  },
  {
   "cell_type": "markdown",
   "metadata": {},
   "source": [
    "The next step is to define the dimensions of the data as well as tell OceanParcels where to attain the various data. Note, in models which have depth as a dimension, this must be defined in the script below in the \"dimensions\" section of the script. A field set constant is also added to define a sinking speed for the sinking behaviour of the particle and is acheievd through using the 'fieldset.add_constant' function. Next, the particle set is defined. The particle set contains information for the simulationsuch as, release coordinates, size, depth, repeat release ect. For information regarding the various methods for defining a particle set the reader is reffered to the OceanParcels documentation or manual."
   ]
  },
  {
   "cell_type": "code",
   "execution_count": null,
   "metadata": {},
   "outputs": [],
   "source": [
    "#This is to add brownian motion to the particle/s\n",
    "\n",
    "fset_currents = FieldSet.from_netcdf(filenames, variables, dimensions)\n",
    "fset_currents.add_periodic_halo(zonal=True)\n",
    "size2D = (fset_currents.U.grid.ydim, fset_currents.U.grid.xdim)\n",
    "\n",
    "fieldset.add_field(Field('Kh_zonal', data=10 * np.ones(size2D),\n",
    "                         lon=fset_currents.U.grid.lon, lat=fset_currents.U.grid.lat,\n",
    "                         mesh='spherical', allow_time_extrapolation=True))\n",
    "fieldset.add_field(Field('Kh_meridional', data=10 * np.ones(size2D),\n",
    "                         lon=fset_currents.U.grid.lon, lat=fset_currents.U.grid.lat,\n",
    "                         mesh='spherical', allow_time_extrapolation=True))"
   ]
  },
  {
   "cell_type": "code",
   "execution_count": null,
   "metadata": {},
   "outputs": [],
   "source": [
    "pset = ParticleSet.from_list(fieldset=fieldset,   # the fields on which the particles are advected\n",
    "                             pclass=SampleParticle,  # the type of particles (JITParticle/ScipyParticle/Custom)\n",
    "                             lon=[18.3176], \n",
    "                             lat=[-34.1501],\n",
    "                             depth=None,\n",
    "                             repeatdt=3600,\n",
    "                             time=(datetime(2018, 1, 1)))   "
   ]
  },
  {
   "cell_type": "markdown",
   "metadata": {},
   "source": [
    "Note!! lonlatdepth_dtype: Floating precision for lon, lat, depth particle coordinates. It is either np.float32 or np.float64. Default is np.float32 if fieldset.U.interp_method is ‘linear’ and np.float64 if the interpolation method is ‘cgrid_velocity’\n",
    "\n",
    "Before the execution of the simulation, the kernels for the various approaches to simulating drag are defined. There are two custom kernel behaviours, water drag and wind drag. The plant mass, cross-sectional area (Ac) and exposure to water and wind drag (expo & expoW) must be defined before each simulation. These parameterisations are dependent on the site of release.\n",
    "\n",
    "Minumum: Ac = 122.97 & mass = 17.10\n",
    "Mean : Ac = 228.61 & mass = 34.45\n",
    "Maximum: Ac = 386.28 & mass = 48.65"
   ]
  },
  {
   "cell_type": "code",
   "execution_count": null,
   "metadata": {},
   "outputs": [],
   "source": [
    "# Hydrodynamic drag kernel\n",
    "def WaterDrag(particle, fieldset, time):\n",
    "        (u,v) = fieldset.UV[time, particle.depth, particle.lat, particle.lon]\n",
    "        Ac = 386.28  # cross-sectional area of plant, must be entered manually and calculated before hand\n",
    "        mass = 48.65 # total mass of the kelp plant being simulated\n",
    "        expo = 0.85\n",
    "        waterdragU = ((0.5*1027.3*(u*u)*0.47*Ac)*expo)/mass # syntax for calculating the loss in velocity as a result of drag\n",
    "        waterdragV = ((0.5*1027.3*(v*v)*0.47*Ac)*expo)/mass\n",
    "        kelpvelU = (u - waterdragU)\n",
    "        kelpvelV = (v - waterdragV)\n",
    "        particle.lon  += kelpvelU * particle.dt   # overall velocity minus the loss in the velocity as a result of drag\n",
    "        particle.lat  += kelpvelV * particle.dt   # overall velocity minus the loss in the velocity as a result of drag\n",
    "        particle.kelpvelU = kelpvelU\n",
    "        particle.kelpvelV = kelpvelV"
   ]
  },
  {
   "cell_type": "code",
   "execution_count": null,
   "metadata": {},
   "outputs": [],
   "source": [
    "# Wind drag kernel\n",
    "def WindDrag(particle, fieldsetwind, time):\n",
    "        uw = fieldset.U[time, particle.depth, particle.lat, particle.lon]\n",
    "        vw = fieldset.V[time, particle.depth, particle.lat, particle.lon]\n",
    "        AcW = 386.28 # cross-sectional area of plant, must be entered manually and calculated before hand\n",
    "        massW = 48.65 # total mass of the kelp plant being simulated\n",
    "        expoW = 0.15\n",
    "        winddragU = ((0.5*1.225*(uw*uw)*1.5*AcW)*expoW)/massW # syntax for calculating the loss in velocity as a result of drag\n",
    "        winddragV = ((0.5*1.225*(vw*vw)*1.5*AcW)*expoW)/massW\n",
    "        particle.lon += (uw - winddragU) * particle.dt  # overall velocity minus the loss in the velocity as a result of drag\n",
    "        particle.lat += (vw - winddragV) * particle.dt  # overall velocity minus the loss in the velocity as a result of drag"
   ]
  },
  {
   "cell_type": "markdown",
   "metadata": {},
   "source": [
    "Before the code can be executed, the output file must be defined and the kernels need to be 'cast' in order to activate them for the simulation. \n",
    "\n",
    "There are three different 'types' of cross-sectional areas and within in each type are different levels of wave and wind drag.\n",
    "\n",
    "Finally, the code is executed with the timesteps defined and the user defined kernels included. "
   ]
  },
  {
   "cell_type": "code",
   "execution_count": null,
   "metadata": {},
   "outputs": [],
   "source": [
    "## cast kernels, select appropriate 'kernel set'\n",
    "\n",
    "kernels = pset.Kernel(AdvectionRK4) + SampleDistance + SampleAge + BrownianMotion2D # for passive RK4 simulation\n",
    "#kernels = pset.Kernel(AdvectionRK4) + SampleDistance + SampleKelpVel + BrownianMotion2D + WaterDrag # KelpFloat\n",
    "#kernels = pset.Kernel(AdvectionRK4) + SampleDistance + SampleAge + SampleKelpVel + BrownianMotion2D + WaterDrag + WindDrag # KelpFloat\n"
   ]
  },
  {
   "cell_type": "code",
   "execution_count": null,
   "metadata": {},
   "outputs": [],
   "source": [
    "## execute simulation\n",
    "\n",
    "## define output file, select outfile according to simulation type\n",
    "\n",
    "#pset.ParticleFile(name=\"RK4_PFloat.nc\", outputdt=timedelta(hours=1)), \n",
    "\n",
    "#pset.ParticleFile(name=\"Min_KFloat_H100_W00.nc\", outputdt=timedelta(hours=1)), \n",
    "#pset.ParticleFile(name=\"Min_KFloat_H095_W05.nc\", outputdt=timedelta(hours=1)),  \n",
    "#pset.ParticleFile(name=\"Min_KFloat_H090_W10.nc\", outputdt=timedelta(hours=1)),  \n",
    "#pset.ParticleFile(name=\"Min_KFloat_H085_W15.nc\", outputdt=timedelta(hours=1)),  \n",
    "\n",
    "#pset.ParticleFile(name=\"Mean_KFloat_H100_W00.nc\", outputdt=timedelta(hours=1)), \n",
    "#pset.ParticleFile(name=\"Mean_KFloat_H095_W05.nc\", outputdt=timedelta(hours=1)), \n",
    "#pset.ParticleFile(name=\"Mean_KFloat_H090_W10.nc\", outputdt=timedelta(hours=1)), \n",
    "#pset.ParticleFile(name=\"Mean_KFloat_H085_W15.nc\", outputdt=timedelta(hours=1)), \n",
    "\n",
    "#pset.ParticleFile(name=\"Max_KFloat_H100_W00.nc\", outputdt=timedelta(hours=1)),  \n",
    "#pset.ParticleFile(name=\"Max_KFloat_H095_W05.nc\", outputdt=timedelta(hours=1)),  \n",
    "#pset.ParticleFile(name=\"Max_KFloat_H090_W10.nc\", outputdt=timedelta(hours=1)),  \n",
    "#pset.ParticleFile(name=\"Max_KFloat_H085_W15.nc\", outputdt=timedelta(hours=1)),  \n",
    "\n",
    "\n",
    "pset.execute(kernels, \n",
    "             runtime=timedelta(days=30),\n",
    "             dt=timedelta(hours=1),\n",
    "             output_file=pset.ParticleFile(name=\"chap3_passivesim_acc.nc\", outputdt=timedelta(hours=1)),  \n",
    "             recovery = {ErrorCode.ErrorOutOfBounds: DeleteParticle})"
   ]
  },
  {
   "cell_type": "markdown",
   "metadata": {},
   "source": [
    "Done! Now we can use the base plotting methods in Ocean Parcels to run some simple plotting to view the results of the simulation. The actual analysis and graphical outputs will be performed using R."
   ]
  },
  {
   "cell_type": "code",
   "execution_count": null,
   "metadata": {},
   "outputs": [],
   "source": [
    "# simple plot for viewing, use for checking simulation output\n",
    "\n",
    "#plotTrajectoriesFile('chap3_sim_acc.nc')\n",
    "plotTrajectoriesFile('chap3_passivesim_acc.nc')\n",
    "#plotTrajectoriesFile('Max_KFloat_H100_W00.nc')\n"
   ]
  },
  {
   "cell_type": "code",
   "execution_count": null,
   "metadata": {},
   "outputs": [],
   "source": [
    "plotTrajectoriesFile('chap3_passivesim_acc.nc', mode='movie2d_notebook')  "
   ]
  },
  {
   "cell_type": "code",
   "execution_count": null,
   "metadata": {},
   "outputs": [],
   "source": [
    "pset.show(field='vector', show_time=datetime(2018, 1, 30, 0), domain={'N':-30, 'S':-35, 'E':21, 'W':15}, savefile = 'vector_day30', with_particles = False, vmax=0.8)"
   ]
  },
  {
   "cell_type": "code",
   "execution_count": null,
   "metadata": {},
   "outputs": [],
   "source": [
    "pset.show(animation = True, field='vector', domain={'N':-30, 'S':-35, 'E':21, 'W':15}, savefile = 'vector_day', with_particles = False)"
   ]
  }
 ],
 "metadata": {
  "kernelspec": {
   "display_name": "Python 3",
   "language": "python",
   "name": "python3"
  },
  "language_info": {
   "codemirror_mode": {
    "name": "ipython",
    "version": 3
   },
   "file_extension": ".py",
   "mimetype": "text/x-python",
   "name": "python",
   "nbconvert_exporter": "python",
   "pygments_lexer": "ipython3",
   "version": "3.6.7"
  }
 },
 "nbformat": 4,
 "nbformat_minor": 4
}
