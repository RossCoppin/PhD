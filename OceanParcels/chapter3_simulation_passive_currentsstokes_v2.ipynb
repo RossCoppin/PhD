{
 "cells": [
  {
   "cell_type": "code",
   "execution_count": null,
   "metadata": {},
   "outputs": [],
   "source": [
    "# Load in software packages\n",
    "%matplotlib inline\n",
    "from parcels import FieldSet, Field, VectorField, ParticleFile, ParticleSet, JITParticle, ScipyParticle, AdvectionRK4, AdvectionEE, plotTrajectoriesFile, Variable\n",
    "from parcels import ErrorCode\n",
    "from parcels import rng as random\n",
    "import numpy as np\n",
    "import math\n",
    "from datetime import timedelta, datetime\n",
    "from operator import attrgetter"
   ]
  },
  {
   "cell_type": "code",
   "execution_count": null,
   "metadata": {},
   "outputs": [],
   "source": [
    "# Load in ocean model \n",
    "filenames = {'U':\"chapter_4_models/copernicus_phy001_030/global-reanalysis-phy-001-030-daily_*.nc\",\n",
    "             'V':\"chapter_4_models/copernicus_phy001_030/global-reanalysis-phy-001-030-daily_*.nc\",\n",
    "             'bathy':'chapter_4_models/copernicus_phy001_030_Statics/GLO-MFC_001_030_mask_bathy.nc',\n",
    "             'mask':'chapter_4_models/copernicus_phy001_030_Statics/GLO-MFC_001_030_mask_bathy.nc',\n",
    "             'S':\"chapter_4_models/copernicus_phy001_030/global-reanalysis-phy-001-030-daily_*.nc\"}\n",
    "variables = {'U':'uo',\n",
    "             'V':'vo',\n",
    "             'S':'so',\n",
    "             'mask':'mask',\n",
    "            'bathy':'deptho'}\n",
    "dimensions = {'U': {'lon': 'longitude', 'lat': 'latitude', 'time': 'time'},\n",
    "              'V': {'lon': 'longitude', 'lat': 'latitude','time': 'time'},\n",
    "              'S': {'lon': 'longitude', 'lat': 'latitude','time': 'time'},\n",
    "              'mask': {'lon': 'longitude', 'lat': 'latitude', 'depth':'depth'},\n",
    "              'bathy': {'lon': 'longitude', 'lat': 'latitude'}}\n",
    "\n",
    "fieldsetcurrents = FieldSet.from_netcdf(filenames, variables, dimensions, allow_time_extrapolation=True)"
   ]
  },
  {
   "cell_type": "code",
   "execution_count": null,
   "metadata": {},
   "outputs": [],
   "source": [
    "# Load in ocean stokes drift model \n",
    "filenamesstks = {'U':\"Copernicus/copernicus_wav_001_032/global-reanalysis-wav-001-032_1633089977537.nc\",\n",
    "                 'V':\"Copernicus/copernicus_wav_001_032/global-reanalysis-wav-001-032_1633089977537.nc\"}\n",
    "variablesstks = {'U':'VSDX',\n",
    "                 'V':'VSDY'}\n",
    "dimensionstsks = {'U': {'lon': 'longitude', 'lat': 'latitude', 'time': 'time'},\n",
    "                  'V': {'lon': 'longitude', 'lat': 'latitude','time': 'time'}}\n",
    "\n",
    "fieldsetsks = FieldSet.from_netcdf(filenamesstks, variablesstks, dimensionstsks, allow_time_extrapolation=True)"
   ]
  },
  {
   "cell_type": "code",
   "execution_count": null,
   "metadata": {},
   "outputs": [],
   "source": [
    "fieldset = FieldSet(U = fieldsetcurrents.U + fieldsetsks.U, V = fieldsetcurrents.V + fieldsetsks.V)"
   ]
  },
  {
   "cell_type": "code",
   "execution_count": null,
   "metadata": {},
   "outputs": [],
   "source": [
    "fieldsetstatic = FieldSet.from_netcdf(filenames, variables, dimensions, allow_time_extrapolation=True)\n",
    "fieldset.add_field(fieldsetstatic.mask)"
   ]
  },
  {
   "cell_type": "code",
   "execution_count": null,
   "metadata": {},
   "outputs": [],
   "source": [
    "class KelpParticle(ScipyParticle):  # Define a new particle class that contains three extra variables\n",
    "    age = Variable('age', dtype=np.float32, initial=0.) # initialise age\n",
    "    distance = Variable('distance', initial=0., dtype=np.float32)  # the distance travelled\n",
    "    prev_lon = Variable('prev_lon', dtype=np.float32, to_write=False,\n",
    "                        initial=attrgetter('lon'))  # the previous longitude\n",
    "    prev_lat = Variable('prev_lat', dtype=np.float32, to_write=False,\n",
    "                        initial=attrgetter('lat'))  # the previous latitude.\n",
    "    VelU = Variable('VelU', dtype=np.float32) # create variable for meridonal velocity\n",
    "    VelV = Variable('VelV', dtype=np.float32) # create variable for zonal velocity\n",
    "    WindU = Variable('WindU')\n",
    "    WindV = Variable('WindV')\n",
    "    KelpVelU = Variable('KelpVelU')\n",
    "    KelpVelV = Variable('KelpVelV')\n",
    "    StokesU = Variable('StokesU')\n",
    "    StokesV = Variable('StokesV')\n",
    "    Phase = Variable('Phase', dtype=np.float32, initial = 1) # 1-floating, 2-beached, 3-out of bounds\n",
    "    waterdragU = Variable('waterdragU')\n",
    "    waterdragV = Variable('waterdragV')\n",
    "    Mask = Variable('Mask', initial = fieldset.mask, to_write = False) # create variable for the LandMask\n",
    "\n",
    "\n",
    "def SampleDistance(particle, fieldset, time): # Function measuring distance\n",
    "    # Calculate the distance in latitudinal direction (using 1.11e2 kilometer per degree latitude)\n",
    "    lat_dist = (particle.lat - particle.prev_lat) * 1.11e2\n",
    "    # Calculate the distance in longitudinal direction, using cosine(latitude) - spherical earth\n",
    "    lon_dist = (particle.lon - particle.prev_lon) * 1.11e2 * math.cos(particle.lat * math.pi / 180)\n",
    "    # Calculate the total Euclidean distance travelled by the particle\n",
    "    particle.distance += math.sqrt(math.pow(lon_dist, 2) + math.pow(lat_dist, 2))\n",
    "\n",
    "    particle.prev_lon = particle.lon  # Set the stored values for next iteration.\n",
    "    particle.prev_lat = particle.lat\n",
    "    \n",
    "def Sample(particle, fieldset, time):\n",
    "    particle.VelU = fieldset.U[0][time, particle.depth, particle.lat, particle.lon]\n",
    "    particle.VelV = fieldset.V[0][time, particle.depth, particle.lat, particle.lon]\n",
    "    particle.StokesU = fieldset.U[1][time, particle.depth, particle.lat, particle.lon]\n",
    "    particle.StokesV = fieldset.V[1][time, particle.depth, particle.lat, particle.lon]\n",
    "\n",
    "    \n",
    "def Age(particle, fieldset, time):\n",
    "        particle.age += (particle.dt/3600)\n",
    "            \n",
    "def Beaching(particle, fieldset, time):\n",
    "        particle.Mask = fieldset.mask[time, particle.depth,particle.lat, particle.lon]\n",
    "        if particle.Mask <= 0.5:\n",
    "            particle.Phase = 3\n",
    "            particle.delete()\n",
    "            \n",
    "def DeleteParticle(particle, fieldset, time): # Function that deletes particle if it goes out of bounds to avoid OutOfBounds error\n",
    "    particle.delete()\n",
    "    particle.Phase = 2"
   ]
  },
  {
   "cell_type": "code",
   "execution_count": null,
   "metadata": {},
   "outputs": [],
   "source": [
    "# Year1 Summer: 2017, 12, 1\n",
    "# Year1 Autumn: 2018, 3, 1\n",
    "# Year1 Winter: 2018, 6, 1\n",
    "# Year1 Spring: 2018, 9, 1\n",
    "\n",
    "pset = ParticleSet.from_list(fieldset=fieldset,   # the fields on which the particles are advected\n",
    "                             pclass=KelpParticle,  # the type of particles (JITParticle/ScipyParticle/Custom)\n",
    "                             lon=[18.3176], \n",
    "                             lat=[-34.1501],\n",
    "                             repeatdt=None,        #43200(12hrs)# 21600 (6hrs) #10800 (3hrs)\n",
    "                             time=(datetime(2018, 9, 1)))  "
   ]
  },
  {
   "cell_type": "code",
   "execution_count": null,
   "metadata": {},
   "outputs": [],
   "source": [
    "## cast kernels, select appropriate 'kernel set'\n",
    "\n",
    "kernels = pset.Kernel(AdvectionRK4) + SampleDistance + Sample + Age + Beaching# Passive float"
   ]
  },
  {
   "cell_type": "code",
   "execution_count": null,
   "metadata": {},
   "outputs": [],
   "source": [
    "## execute simulation\n",
    "\n",
    "## define output file, select outfile according to simulation type\n",
    "\n",
    "pset.execute(kernels, \n",
    "             runtime=timedelta(days=91),\n",
    "             dt=timedelta(hours=3),\n",
    "             output_file=pset.ParticleFile(name=\"passive_spring_currstks_single_test.nc\", outputdt=timedelta(hours=3)), \n",
    "             recovery = {ErrorCode.ErrorOutOfBounds: DeleteParticle})"
   ]
  },
  {
   "cell_type": "code",
   "execution_count": null,
   "metadata": {},
   "outputs": [],
   "source": [
    "# simple plot for viewing, use for checking simulation output\n",
    "\n",
    "plotTrajectoriesFile('passive_spring_currstks_single_test.nc')\n",
    "#plotTrajectoriesFile('Max_KFloat_H100_W00_Oct.nc')\n",
    "#plotTrajectoriesFile('Max_KFsensetest_3hrloat_H100_W00.nc')\n"
   ]
  },
  {
   "cell_type": "code",
   "execution_count": null,
   "metadata": {},
   "outputs": [],
   "source": [
    "plotTrajectoriesFile('passive_autumn_currstks_single_test.nc', mode='movie2d_notebook')  "
   ]
  },
  {
   "cell_type": "code",
   "execution_count": null,
   "metadata": {},
   "outputs": [],
   "source": [
    "pset.show(field='vector', show_time=datetime(2018, 1, 30, 0), domain={'N':-30, 'S':-35, 'E':21, 'W':15}, savefile = 'vector_day30', with_particles = False, vmax=0.8)"
   ]
  }
 ],
 "metadata": {
  "kernelspec": {
   "display_name": "Python 3",
   "language": "python",
   "name": "python3"
  },
  "language_info": {
   "codemirror_mode": {
    "name": "ipython",
    "version": 3
   },
   "file_extension": ".py",
   "mimetype": "text/x-python",
   "name": "python",
   "nbconvert_exporter": "python",
   "pygments_lexer": "ipython3",
   "version": "3.6.13"
  }
 },
 "nbformat": 4,
 "nbformat_minor": 4
}
